{
 "cells": [
  {
   "cell_type": "markdown",
   "metadata": {},
   "source": [
    "# PyCon 2022 Beginners' Day Workshop"
   ]
  },
  {
   "cell_type": "markdown",
   "metadata": {},
   "source": [
    "Choose your language | Seleziona la lingua\n",
    "\n",
    "- [English 🇬🇧](./Live_Coding_EN.ipynb)\n",
    "- [Italian 🇮🇹](./Live_Coding.ipynb)"
   ]
  }
 ],
 "metadata": {
  "language_info": {
   "name": "python"
  },
  "orig_nbformat": 4
 },
 "nbformat": 4,
 "nbformat_minor": 2
}
