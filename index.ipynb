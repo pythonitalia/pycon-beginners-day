{
 "cells": [
  {
   "cell_type": "markdown",
   "metadata": {},
   "source": [
    "![Banner PyCon 2022](./banner_pycon22.png)"
   ]
  },
  {
   "cell_type": "markdown",
   "metadata": {},
   "source": [
    "Choose your language | Seleziona la lingua\n",
    "\n",
    "- [English 🇬🇧](./Live_Coding_EN.ipynb)\n",
    "- [Italian 🇮🇹](./Live_Coding.ipynb)"
   ]
  }
 ],
 "metadata": {
  "language_info": {
   "name": "python"
  },
  "orig_nbformat": 4
 },
 "nbformat": 4,
 "nbformat_minor": 2
}
