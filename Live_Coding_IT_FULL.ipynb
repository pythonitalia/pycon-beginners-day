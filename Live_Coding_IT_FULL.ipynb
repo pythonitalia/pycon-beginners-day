{
  "cells": [
    {
      "cell_type": "markdown",
      "id": "a01af5d9",
      "metadata": {
        "id": "a01af5d9"
      },
      "source": [
        "### Sottoproblema 1: Prendere in input dei dati dall'utente e memorizzarli sottoforma di numeri\n",
        "\n",
        "Concetti teorici correlati:\n",
        "- variabili\n",
        "- funzione input\n",
        "- funzione print \n",
        "- tipi di dato\n",
        "- operazioni con i dati"
      ]
    },
    {
      "cell_type": "code",
      "source": [
        "intero=100\n",
        "numero_float=3.14\n",
        "booleano=False\n",
        "stringa='Ciao come stai?'"
      ],
      "metadata": {
        "id": "4VtpBIRMfwDJ"
      },
      "id": "4VtpBIRMfwDJ",
      "execution_count": 1,
      "outputs": []
    },
    {
      "cell_type": "code",
      "source": [
        "intero+20"
      ],
      "metadata": {
        "colab": {
          "base_uri": "https://localhost:8080/"
        },
        "id": "eKxakk6QgNWp",
        "outputId": "c7f4292f-2fb1-4675-ec43-e48a6a4a396f"
      },
      "id": "eKxakk6QgNWp",
      "execution_count": 2,
      "outputs": [
        {
          "output_type": "execute_result",
          "data": {
            "text/plain": [
              "120"
            ]
          },
          "metadata": {},
          "execution_count": 2
        }
      ]
    },
    {
      "cell_type": "code",
      "source": [
        "print(intero)"
      ],
      "metadata": {
        "colab": {
          "base_uri": "https://localhost:8080/"
        },
        "id": "2sY9OrrYgdH7",
        "outputId": "f550bcfc-e05b-4f4a-c710-e19986e79a48"
      },
      "id": "2sY9OrrYgdH7",
      "execution_count": 3,
      "outputs": [
        {
          "output_type": "stream",
          "name": "stdout",
          "text": [
            "100\n"
          ]
        }
      ]
    },
    {
      "cell_type": "code",
      "source": [
        "print('Ciao Mondo :)')"
      ],
      "metadata": {
        "colab": {
          "base_uri": "https://localhost:8080/"
        },
        "id": "vLxHFkKkhB1h",
        "outputId": "85f7e035-2525-4fc8-bd9e-3cc233069379"
      },
      "id": "vLxHFkKkhB1h",
      "execution_count": 4,
      "outputs": [
        {
          "output_type": "stream",
          "name": "stdout",
          "text": [
            "Ciao Mondo :)\n"
          ]
        }
      ]
    },
    {
      "cell_type": "code",
      "source": [
        "print(intero+numero_float)"
      ],
      "metadata": {
        "colab": {
          "base_uri": "https://localhost:8080/"
        },
        "id": "nzfeukYIhQAT",
        "outputId": "a3aea94f-a8ca-4666-d70e-25710c476f07"
      },
      "id": "nzfeukYIhQAT",
      "execution_count": 5,
      "outputs": [
        {
          "output_type": "stream",
          "name": "stdout",
          "text": [
            "103.14\n"
          ]
        }
      ]
    },
    {
      "cell_type": "code",
      "source": [
        "print(stringa,intero)"
      ],
      "metadata": {
        "colab": {
          "base_uri": "https://localhost:8080/"
        },
        "id": "9qTbFt1YhbdM",
        "outputId": "2eeefe19-e433-414e-ba6d-e11a4849bdfe"
      },
      "id": "9qTbFt1YhbdM",
      "execution_count": 6,
      "outputs": [
        {
          "output_type": "stream",
          "name": "stdout",
          "text": [
            "Ciao come stai? 100\n"
          ]
        }
      ]
    },
    {
      "cell_type": "code",
      "source": [
        "print(stringa+str(intero))"
      ],
      "metadata": {
        "colab": {
          "base_uri": "https://localhost:8080/"
        },
        "id": "13Z5Y4ushl1Y",
        "outputId": "f752892b-484c-47e7-e7fb-10574d9e786c"
      },
      "id": "13Z5Y4ushl1Y",
      "execution_count": 7,
      "outputs": [
        {
          "output_type": "stream",
          "name": "stdout",
          "text": [
            "Ciao come stai?100\n"
          ]
        }
      ]
    },
    {
      "cell_type": "code",
      "source": [
        "print(type(numero_float))"
      ],
      "metadata": {
        "colab": {
          "base_uri": "https://localhost:8080/"
        },
        "id": "0xDpahS5hv31",
        "outputId": "2283a0df-d6e1-4f26-e645-5d59f118f2aa"
      },
      "id": "0xDpahS5hv31",
      "execution_count": 8,
      "outputs": [
        {
          "output_type": "stream",
          "name": "stdout",
          "text": [
            "<class 'float'>\n"
          ]
        }
      ]
    },
    {
      "cell_type": "code",
      "source": [
        "risultato=input('inserisci un numero')"
      ],
      "metadata": {
        "colab": {
          "base_uri": "https://localhost:8080/"
        },
        "id": "hAyECZpSiBn4",
        "outputId": "5c037b9d-dc33-4f63-fb6e-7300afda762b"
      },
      "id": "hAyECZpSiBn4",
      "execution_count": 9,
      "outputs": [
        {
          "name": "stdout",
          "output_type": "stream",
          "text": [
            "inserisci un numero10\n"
          ]
        }
      ]
    },
    {
      "cell_type": "code",
      "source": [
        "print(risultato)"
      ],
      "metadata": {
        "colab": {
          "base_uri": "https://localhost:8080/"
        },
        "id": "dvo2lUIAiQS4",
        "outputId": "36fb626a-1697-4b44-b28f-e731b6300e34"
      },
      "id": "dvo2lUIAiQS4",
      "execution_count": 10,
      "outputs": [
        {
          "output_type": "stream",
          "name": "stdout",
          "text": [
            "10\n"
          ]
        }
      ]
    },
    {
      "cell_type": "code",
      "source": [
        "print(type(risultato))"
      ],
      "metadata": {
        "colab": {
          "base_uri": "https://localhost:8080/"
        },
        "id": "yzUqPzI0iUva",
        "outputId": "2fc0dde2-3f64-4061-97c9-81c00f72d0a9"
      },
      "id": "yzUqPzI0iUva",
      "execution_count": 11,
      "outputs": [
        {
          "output_type": "stream",
          "name": "stdout",
          "text": [
            "<class 'str'>\n"
          ]
        }
      ]
    },
    {
      "cell_type": "code",
      "source": [
        "risultato=int(risultato)"
      ],
      "metadata": {
        "id": "88S-aITUidPh"
      },
      "id": "88S-aITUidPh",
      "execution_count": 12,
      "outputs": []
    },
    {
      "cell_type": "code",
      "source": [
        "print(type(risultato))"
      ],
      "metadata": {
        "colab": {
          "base_uri": "https://localhost:8080/"
        },
        "id": "JX2lBam8ih3Y",
        "outputId": "8a6cfcf6-cedc-48d1-c84c-757e492b5280"
      },
      "id": "JX2lBam8ih3Y",
      "execution_count": 13,
      "outputs": [
        {
          "output_type": "stream",
          "name": "stdout",
          "text": [
            "<class 'int'>\n"
          ]
        }
      ]
    },
    {
      "cell_type": "code",
      "execution_count": 14,
      "id": "e5f6e516",
      "metadata": {
        "id": "e5f6e516"
      },
      "outputs": [],
      "source": [
        "# Qui andremo a prendere 6 input dall'utente e a trasformarli in variabili float"
      ]
    },
    {
      "cell_type": "code",
      "source": [
        "hp=input('quale è il valore dei punti vita?\\n')\n",
        "attack=input('quale è il valore di attacco?\\n')\n",
        "defense=input('quale è il valore di difesa?\\n')\n",
        "sp_atk=input(\"quale è il valore dell'attacco speciale?\\n\")\n",
        "sp_def=input(\"quale è il valore della difesa speciale?\\n\")\n",
        "speed=input(\"quale è il valore della velocità?\\n\")\n"
      ],
      "metadata": {
        "colab": {
          "base_uri": "https://localhost:8080/"
        },
        "id": "w--s70OWi26B",
        "outputId": "28ea84c7-09b5-4420-833c-fadff8800895"
      },
      "id": "w--s70OWi26B",
      "execution_count": 15,
      "outputs": [
        {
          "name": "stdout",
          "output_type": "stream",
          "text": [
            "quale è il valore dei punti vita?\n",
            "45\n",
            "quale è il valore di attacco?\n",
            "65\n",
            "quale è il valore di difesa?\n",
            "75\n",
            "quale è il valore dell'attacco speciale?\n",
            "45\n",
            "quale è il valore della difesa speciale?\n",
            "65\n",
            "quale è il valore della velocità?\n",
            "75\n"
          ]
        }
      ]
    },
    {
      "cell_type": "code",
      "source": [
        "print('punti vita',hp)\n",
        "print('attacco',attack)\n",
        "print('difesa',defense)\n",
        "print('attacco speciale',sp_atk)\n",
        "print('difesa speciale',sp_def)\n",
        "print('velocità',speed)"
      ],
      "metadata": {
        "colab": {
          "base_uri": "https://localhost:8080/"
        },
        "id": "yOF-9eBTkHJj",
        "outputId": "38baca0a-9479-4640-86fc-577a23507335"
      },
      "id": "yOF-9eBTkHJj",
      "execution_count": 16,
      "outputs": [
        {
          "output_type": "stream",
          "name": "stdout",
          "text": [
            "punti vita 45\n",
            "attacco 65\n",
            "difesa 75\n",
            "attacco speciale 45\n",
            "difesa speciale 65\n",
            "velocità 75\n"
          ]
        }
      ]
    },
    {
      "cell_type": "markdown",
      "id": "f651e5f2",
      "metadata": {
        "id": "f651e5f2"
      },
      "source": [
        "### Sottoproblema 2.a Leggere dal dataset tutti i dati relativi ai Pokemon\n",
        "\n",
        "Concetti teorici correlati:\n",
        "- liste e accesso ai loro elementi\n",
        "- cicli for per scorrere le liste\n",
        "- matrici\n",
        "- file CSV e loro lettura\n",
        "- apertura e lettura di un file in Python\n",
        "- dataset\n",
        "- introduzione alle f-strings (?)"
      ]
    },
    {
      "cell_type": "code",
      "source": [
        "import os \n",
        "from google.colab import drive\n",
        "drive.mount('/content/drive')\n",
        "os.chdir('/content/drive/My Drive/beginners')\n"
      ],
      "metadata": {
        "colab": {
          "base_uri": "https://localhost:8080/"
        },
        "id": "RHXroU5qkBpb",
        "outputId": "d0ffdc0f-a0b4-45bb-817c-1ff93a605b59"
      },
      "id": "RHXroU5qkBpb",
      "execution_count": 17,
      "outputs": [
        {
          "output_type": "stream",
          "name": "stdout",
          "text": [
            "Mounted at /content/drive\n"
          ]
        }
      ]
    },
    {
      "cell_type": "code",
      "source": [
        "lista_interi=[1,2,3,4]\n",
        "lista_stringhe=['a','s','ciao']\n",
        "lista_mista=['a',3,6,3.14,'casa']\n"
      ],
      "metadata": {
        "id": "OJVJUg6hqVqE"
      },
      "id": "OJVJUg6hqVqE",
      "execution_count": 18,
      "outputs": []
    },
    {
      "cell_type": "code",
      "source": [
        "print(lista_interi)\n",
        "lista_interi.append(9)\n",
        "print(lista_interi)"
      ],
      "metadata": {
        "colab": {
          "base_uri": "https://localhost:8080/"
        },
        "id": "fU2slnroqwwB",
        "outputId": "a09c6925-a833-4584-d9c2-45537043015c"
      },
      "id": "fU2slnroqwwB",
      "execution_count": 19,
      "outputs": [
        {
          "output_type": "stream",
          "name": "stdout",
          "text": [
            "[1, 2, 3, 4]\n",
            "[1, 2, 3, 4, 9]\n"
          ]
        }
      ]
    },
    {
      "cell_type": "code",
      "source": [
        "print(lista_interi[-2])"
      ],
      "metadata": {
        "colab": {
          "base_uri": "https://localhost:8080/"
        },
        "id": "sz8BOSMqrCfD",
        "outputId": "f62f4fb9-dda5-41cc-8df3-4db0dcc873a5"
      },
      "id": "sz8BOSMqrCfD",
      "execution_count": 20,
      "outputs": [
        {
          "output_type": "stream",
          "name": "stdout",
          "text": [
            "4\n"
          ]
        }
      ]
    },
    {
      "cell_type": "code",
      "source": [
        "for element in lista_interi:\n",
        "  print(element)"
      ],
      "metadata": {
        "colab": {
          "base_uri": "https://localhost:8080/"
        },
        "id": "hivm3FWRrbfl",
        "outputId": "25275e3b-210f-4e8b-89a5-a077549756dc"
      },
      "id": "hivm3FWRrbfl",
      "execution_count": 21,
      "outputs": [
        {
          "output_type": "stream",
          "name": "stdout",
          "text": [
            "1\n",
            "2\n",
            "3\n",
            "4\n",
            "9\n"
          ]
        }
      ]
    },
    {
      "cell_type": "code",
      "source": [
        "s=''\n",
        "for element in lista_stringhe:\n",
        "  s+=' '+ element\n",
        "print(s)"
      ],
      "metadata": {
        "colab": {
          "base_uri": "https://localhost:8080/"
        },
        "id": "RSF4RyvvrrRg",
        "outputId": "e7b957fb-2715-4ef6-e913-feb0aafcef50"
      },
      "id": "RSF4RyvvrrRg",
      "execution_count": 22,
      "outputs": [
        {
          "output_type": "stream",
          "name": "stdout",
          "text": [
            " a s ciao\n"
          ]
        }
      ]
    },
    {
      "cell_type": "code",
      "source": [
        "for i in range(len(lista_interi)):\n",
        "  print(lista_interi[i])"
      ],
      "metadata": {
        "colab": {
          "base_uri": "https://localhost:8080/"
        },
        "id": "evre0ZXcsAyP",
        "outputId": "6e0247d4-0de0-41e9-eac2-b5bea8e61375"
      },
      "id": "evre0ZXcsAyP",
      "execution_count": 23,
      "outputs": [
        {
          "output_type": "stream",
          "name": "stdout",
          "text": [
            "1\n",
            "2\n",
            "3\n",
            "4\n",
            "9\n"
          ]
        }
      ]
    },
    {
      "cell_type": "code",
      "source": [
        "for a in enumerate(lista_interi):\n",
        "  print(a)"
      ],
      "metadata": {
        "colab": {
          "base_uri": "https://localhost:8080/"
        },
        "id": "X32-idQ7sgrn",
        "outputId": "e8773691-04da-4fbc-bdff-3fc2c0d1a910"
      },
      "id": "X32-idQ7sgrn",
      "execution_count": 24,
      "outputs": [
        {
          "output_type": "stream",
          "name": "stdout",
          "text": [
            "(0, 1)\n",
            "(1, 2)\n",
            "(2, 3)\n",
            "(3, 4)\n",
            "(4, 9)\n"
          ]
        }
      ]
    },
    {
      "cell_type": "code",
      "source": [
        "lista_1=['f',2,3,4,5]\n",
        "lista_2=['a','b','c','d','e']\n",
        "for numero ,lettera in zip(lista_1,lista_2):\n",
        "  print(numero,lettera)"
      ],
      "metadata": {
        "colab": {
          "base_uri": "https://localhost:8080/"
        },
        "id": "zdsY06Gws2M0",
        "outputId": "50df5fda-f178-4176-e148-3e6ea5085be3"
      },
      "id": "zdsY06Gws2M0",
      "execution_count": 25,
      "outputs": [
        {
          "output_type": "stream",
          "name": "stdout",
          "text": [
            "f a\n",
            "2 b\n",
            "3 c\n",
            "4 d\n",
            "5 e\n"
          ]
        }
      ]
    },
    {
      "cell_type": "code",
      "source": [
        "matrice=[[1,2,3],[4,5,6],[7,8,9],[10,11,12]]\n",
        "for row in matrice:\n",
        "  for element in row:\n",
        "    print(element)\n",
        "  print('fine riga')"
      ],
      "metadata": {
        "colab": {
          "base_uri": "https://localhost:8080/"
        },
        "id": "xyrTP6Q-tnsl",
        "outputId": "b0ddfc58-e117-41b1-bbf7-51f2e8793162"
      },
      "id": "xyrTP6Q-tnsl",
      "execution_count": 26,
      "outputs": [
        {
          "output_type": "stream",
          "name": "stdout",
          "text": [
            "1\n",
            "2\n",
            "3\n",
            "fine riga\n",
            "4\n",
            "5\n",
            "6\n",
            "fine riga\n",
            "7\n",
            "8\n",
            "9\n",
            "fine riga\n",
            "10\n",
            "11\n",
            "12\n",
            "fine riga\n"
          ]
        }
      ]
    },
    {
      "cell_type": "code",
      "source": [
        "tupla=(5)"
      ],
      "metadata": {
        "id": "JJI5OX5vuMnY"
      },
      "id": "JJI5OX5vuMnY",
      "execution_count": 27,
      "outputs": []
    },
    {
      "cell_type": "code",
      "execution_count": 28,
      "id": "de455a7c",
      "metadata": {
        "id": "de455a7c"
      },
      "outputs": [],
      "source": [
        "# Qui andremo ad aprire il dataset dei pokemon e ad assegnarlo ad una variabile"
      ]
    },
    {
      "cell_type": "code",
      "source": [
        "import csv"
      ],
      "metadata": {
        "id": "4pJ0KF_L2FxP"
      },
      "id": "4pJ0KF_L2FxP",
      "execution_count": 29,
      "outputs": []
    },
    {
      "cell_type": "code",
      "source": [
        "file=open('pokemon.csv','r')\n",
        "reader=csv.reader(file)\n",
        "columns=next(reader)\n",
        "print(columns)\n",
        "for row in reader:\n",
        "  print(row)\n",
        "  break"
      ],
      "metadata": {
        "colab": {
          "base_uri": "https://localhost:8080/"
        },
        "id": "QBLoaB0G20cn",
        "outputId": "0175e5d3-c172-4f5d-f186-f242e42b87cd"
      },
      "id": "QBLoaB0G20cn",
      "execution_count": 30,
      "outputs": [
        {
          "output_type": "stream",
          "name": "stdout",
          "text": [
            "['#', 'Name', 'Type 1', 'Type 2', 'Total', 'HP', 'Attack', 'Defense', 'Sp. Atk', 'Sp. Def', 'Speed', 'Generation', 'Legendary']\n",
            "['1', 'Bulbasaur', 'Grass', 'Poison', '318', '45', '49', '49', '65', '65', '45', '1', 'False']\n"
          ]
        }
      ]
    },
    {
      "cell_type": "code",
      "source": [
        "file.close()"
      ],
      "metadata": {
        "id": "86h8ugz-3u_g"
      },
      "id": "86h8ugz-3u_g",
      "execution_count": 31,
      "outputs": []
    },
    {
      "cell_type": "code",
      "source": [
        "pokemon_rows=[]\n",
        "with open('pokemon.csv','r') as file2:\n",
        "  reader=csv.reader(file2)\n",
        "  columns=next(reader)\n",
        "  print(columns)\n",
        "  for row in reader:\n",
        "    pokemon_rows.append(row)\n",
        "    \n"
      ],
      "metadata": {
        "colab": {
          "base_uri": "https://localhost:8080/"
        },
        "id": "viEJXI7q3y4O",
        "outputId": "c3a5bba1-ccfe-4746-fb82-b9de9bcd1385"
      },
      "id": "viEJXI7q3y4O",
      "execution_count": 32,
      "outputs": [
        {
          "output_type": "stream",
          "name": "stdout",
          "text": [
            "['#', 'Name', 'Type 1', 'Type 2', 'Total', 'HP', 'Attack', 'Defense', 'Sp. Atk', 'Sp. Def', 'Speed', 'Generation', 'Legendary']\n"
          ]
        }
      ]
    },
    {
      "cell_type": "code",
      "source": [
        "print(pokemon_rows[-1])"
      ],
      "metadata": {
        "colab": {
          "base_uri": "https://localhost:8080/"
        },
        "id": "hnMcEfM-4S1p",
        "outputId": "ab275156-25d3-4866-e710-0528fe27a4bb"
      },
      "id": "hnMcEfM-4S1p",
      "execution_count": 33,
      "outputs": [
        {
          "output_type": "stream",
          "name": "stdout",
          "text": [
            "['721', 'Volcanion', 'Fire', 'Water', '600', '80', '110', '120', '130', '90', '70', '6', 'True']\n"
          ]
        }
      ]
    },
    {
      "cell_type": "markdown",
      "id": "1dfcb3d7",
      "metadata": {
        "id": "1dfcb3d7"
      },
      "source": [
        "### Sottoproblema 2.b Utilizzare una funzione per stabilire un grado di similarità\n",
        "\n",
        "Concetti teorici correlati:\n",
        "- espressioni matematiche più complesse e precedenza degli operatori\n",
        "- modulo math\n",
        "- funzioni\n",
        "  - input/output di una funzione\n",
        "  - argomenti"
      ]
    },
    {
      "cell_type": "code",
      "execution_count": 34,
      "id": "22cfa495",
      "metadata": {
        "id": "22cfa495"
      },
      "outputs": [],
      "source": [
        "# Qui andremo a creare e testare le funzioni per\n",
        "# - calcolo della distanza euclidea\n",
        "# - normalizzazione\n",
        "# Inoltre ci andremo a prendere le colonne con i soli valori numerici dal dataset"
      ]
    },
    {
      "cell_type": "code",
      "source": [
        "p1=(5,8)\n",
        "p2=(5,6)"
      ],
      "metadata": {
        "id": "qTrTHE1D70Ne"
      },
      "id": "qTrTHE1D70Ne",
      "execution_count": 35,
      "outputs": []
    },
    {
      "cell_type": "code",
      "source": [
        "def euclidean_distance(p,q):\n",
        "  distance=0\n",
        "  for px,qx in zip(p,q):\n",
        "    distance+=(px-qx)**2\n",
        "  distance = distance**(1/2)\n",
        "  return distance\n",
        "\n",
        "print(euclidean_distance(p1,p2))"
      ],
      "metadata": {
        "colab": {
          "base_uri": "https://localhost:8080/"
        },
        "id": "iIiRg3sk7-6m",
        "outputId": "1b708370-fa40-49e6-a542-22567a2c0c1d"
      },
      "id": "iIiRg3sk7-6m",
      "execution_count": 36,
      "outputs": [
        {
          "output_type": "stream",
          "name": "stdout",
          "text": [
            "2.0\n"
          ]
        }
      ]
    },
    {
      "cell_type": "code",
      "source": [
        "import math"
      ],
      "metadata": {
        "id": "wvvE1DbV89EG"
      },
      "id": "wvvE1DbV89EG",
      "execution_count": 37,
      "outputs": []
    },
    {
      "cell_type": "code",
      "source": [
        "def euclidean_distance(p,q):\n",
        "  distance=0\n",
        "  for px,qx in zip(p,q):\n",
        "    distance+=math.pow((px-qx),2)\n",
        "  distance = math.sqrt(distance)\n",
        "  return distance\n",
        "\n",
        "print(euclidean_distance(p1,p2))"
      ],
      "metadata": {
        "colab": {
          "base_uri": "https://localhost:8080/"
        },
        "id": "4XMhlEJ09Ame",
        "outputId": "bf403b3d-910a-45e8-933d-eab1b6b449b9"
      },
      "id": "4XMhlEJ09Ame",
      "execution_count": 38,
      "outputs": [
        {
          "output_type": "stream",
          "name": "stdout",
          "text": [
            "2.0\n"
          ]
        }
      ]
    },
    {
      "cell_type": "code",
      "source": [
        "print(columns)"
      ],
      "metadata": {
        "colab": {
          "base_uri": "https://localhost:8080/"
        },
        "id": "XmSI8vgg9eHp",
        "outputId": "8fd07a37-3683-4b3f-a502-0cd591de41a4"
      },
      "id": "XmSI8vgg9eHp",
      "execution_count": 39,
      "outputs": [
        {
          "output_type": "stream",
          "name": "stdout",
          "text": [
            "['#', 'Name', 'Type 1', 'Type 2', 'Total', 'HP', 'Attack', 'Defense', 'Sp. Atk', 'Sp. Def', 'Speed', 'Generation', 'Legendary']\n"
          ]
        }
      ]
    },
    {
      "cell_type": "code",
      "source": [
        "indexs=[5,6,7,8,9,10]"
      ],
      "metadata": {
        "id": "9SCNcOYT9jVW"
      },
      "id": "9SCNcOYT9jVW",
      "execution_count": 40,
      "outputs": []
    },
    {
      "cell_type": "code",
      "source": [
        "def get_pokemon_values(row):\n",
        "  pokemon_values=[]\n",
        "  for index in indexs:\n",
        "    pokemon_values.append(float(row[index]))\n",
        "  return pokemon_values"
      ],
      "metadata": {
        "id": "X5faz1d79vdQ"
      },
      "id": "X5faz1d79vdQ",
      "execution_count": 41,
      "outputs": []
    },
    {
      "cell_type": "code",
      "source": [
        "print(get_pokemon_values(pokemon_rows[-1]))"
      ],
      "metadata": {
        "colab": {
          "base_uri": "https://localhost:8080/"
        },
        "id": "zkZi3vKw-Tbj",
        "outputId": "68d2e0fa-d80a-4ce8-da1d-43b5f92be2cb"
      },
      "id": "zkZi3vKw-Tbj",
      "execution_count": 42,
      "outputs": [
        {
          "output_type": "stream",
          "name": "stdout",
          "text": [
            "[80.0, 110.0, 120.0, 130.0, 90.0, 70.0]\n"
          ]
        }
      ]
    },
    {
      "cell_type": "code",
      "source": [
        "pokemon_values=[]\n",
        "for row in pokemon_rows:\n",
        "  pokemon_values.append(get_pokemon_values(row))\n",
        "\n"
      ],
      "metadata": {
        "id": "QejNuqKR-gL-"
      },
      "id": "QejNuqKR-gL-",
      "execution_count": 43,
      "outputs": []
    },
    {
      "cell_type": "code",
      "source": [
        "pokemon_values[-1]"
      ],
      "metadata": {
        "colab": {
          "base_uri": "https://localhost:8080/"
        },
        "id": "n1Azqe28-2Yu",
        "outputId": "710efb04-de03-48c3-c19b-26a83ef15213"
      },
      "id": "n1Azqe28-2Yu",
      "execution_count": 44,
      "outputs": [
        {
          "output_type": "execute_result",
          "data": {
            "text/plain": [
              "[80.0, 110.0, 120.0, 130.0, 90.0, 70.0]"
            ]
          },
          "metadata": {},
          "execution_count": 44
        }
      ]
    },
    {
      "cell_type": "markdown",
      "id": "2857aad1",
      "metadata": {
        "id": "2857aad1"
      },
      "source": [
        "### Sottoproblema 2.c Trovare i k pokemon più simili utilizzando la funzione di similarità\n",
        "\n",
        "Concetti teorici correlati:\n",
        "- cicli for\n",
        "- strutture dati complesse (liste di tuple?)\n",
        "- sort \n",
        "- funzioni lambda\n",
        "- array slicing"
      ]
    },
    {
      "cell_type": "code",
      "execution_count": 45,
      "id": "41bae39e",
      "metadata": {
        "id": "41bae39e"
      },
      "outputs": [],
      "source": [
        "# Qui andremo ad unire i pezzi:\n",
        "# - Partiamo dall'input dell'utente e creiamo una lista corrispondente ad un pokemon \"fittizio\"\n",
        "# - Aggiungiamo al dataset e normalizziamo (ottenendo un dataset normalizzato)\n",
        "# - Estraiamo ultima riga (corrispondente al pokemon fittizio)\n",
        "# - in un ciclo for calcoliamo le distanze e le inseriamo nella struttura dati complessa\n",
        "# - orinamento tramite sort e lambda\n",
        "# - estraiamo i primi K elementi"
      ]
    },
    {
      "cell_type": "code",
      "source": [
        "def get_k_neighbors(dataset,element,k=5):\n",
        "  distances=[]\n",
        "  for index,row in enumerate(dataset):\n",
        "    distance=euclidean_distance(row,element)\n",
        "    distances.append((index,distance))\n",
        "\n",
        "  distances.sort(key=lambda x:x[1])\n",
        "  return distances[:k]"
      ],
      "metadata": {
        "id": "W5eITp9ACVp2"
      },
      "id": "W5eITp9ACVp2",
      "execution_count": 46,
      "outputs": []
    },
    {
      "cell_type": "code",
      "source": [
        "hp=float(input('quale è il valore dei punti vita?\\n'))\n",
        "attack=float(input('quale è il valore di attacco?\\n'))\n",
        "defense=float(input('quale è il valore di difesa?\\n'))\n",
        "sp_atk=float(input(\"quale è il valore dell'attacco speciale?\\n\"))\n",
        "sp_def=float(input(\"quale è il valore della difesa speciale?\\n\"))\n",
        "speed=float(input(\"quale è il valore della velocità?\\n\"))\n",
        "\n",
        "our_pokemon=[hp,attack,defense,sp_atk,sp_def,speed]\n",
        "neighbors=get_k_neighbors(pokemon_values,our_pokemon)"
      ],
      "metadata": {
        "colab": {
          "base_uri": "https://localhost:8080/"
        },
        "id": "-WSY3m75D__I",
        "outputId": "00b23e8e-477f-459b-93ed-fc933972f141"
      },
      "id": "-WSY3m75D__I",
      "execution_count": 47,
      "outputs": [
        {
          "name": "stdout",
          "output_type": "stream",
          "text": [
            "quale è il valore dei punti vita?\n",
            "45\n",
            "quale è il valore di attacco?\n",
            "65\n",
            "quale è il valore di difesa?\n",
            "78\n",
            "quale è il valore dell'attacco speciale?\n",
            "68\n",
            "quale è il valore della difesa speciale?\n",
            "65\n",
            "quale è il valore della velocità?\n",
            "75\n"
          ]
        }
      ]
    },
    {
      "cell_type": "code",
      "source": [
        "print(neighbors)"
      ],
      "metadata": {
        "colab": {
          "base_uri": "https://localhost:8080/"
        },
        "id": "o0cv4lolE1_R",
        "outputId": "c81fd4d8-dfb1-4a4a-9330-4cdaf800643c"
      },
      "id": "o0cv4lolE1_R",
      "execution_count": 48,
      "outputs": [
        {
          "output_type": "stream",
          "name": "stdout",
          "text": [
            "[(335, 21.166010488516726), (555, 22.06807649071391), (644, 26.551836094703507), (167, 26.70205984563738), (10, 26.962937525425527)]\n"
          ]
        }
      ]
    },
    {
      "cell_type": "markdown",
      "id": "ceb60d5f",
      "metadata": {
        "id": "ceb60d5f"
      },
      "source": [
        "### Sottoproblema 3 Visualizzare i risultati\n",
        "\n",
        "Concetti teorici correlati:\n",
        "- f-strings\n",
        "- funzioni"
      ]
    },
    {
      "cell_type": "code",
      "execution_count": 49,
      "id": "9694ecb7",
      "metadata": {
        "id": "9694ecb7"
      },
      "outputs": [],
      "source": [
        "# Qui andremo a creare una funzione che partendo dai K indici ci costruisce K stringhe tramite funzione ed f-strings"
      ]
    },
    {
      "cell_type": "code",
      "source": [
        "print(columns)"
      ],
      "metadata": {
        "colab": {
          "base_uri": "https://localhost:8080/"
        },
        "id": "3774q6iqNM8r",
        "outputId": "a59d52ff-cb6e-4655-aba2-91bdcae73c7f"
      },
      "id": "3774q6iqNM8r",
      "execution_count": 50,
      "outputs": [
        {
          "output_type": "stream",
          "name": "stdout",
          "text": [
            "['#', 'Name', 'Type 1', 'Type 2', 'Total', 'HP', 'Attack', 'Defense', 'Sp. Atk', 'Sp. Def', 'Speed', 'Generation', 'Legendary']\n"
          ]
        }
      ]
    },
    {
      "cell_type": "code",
      "source": [
        "def print_pokemon(index):\n",
        "  s=f'{pokemon_rows[index][0]} - {pokemon_rows[index][1]}, di tipo {pokemon_rows[index][2]}'\n",
        "\n",
        "  if pokemon_rows[index][-1]=='True':\n",
        "    s+=f'\\n - Pokemon Leggendario'\n",
        "  else:\n",
        "    s+=f'\\n - Pokemon Non Leggendario'\n",
        "\n",
        "  for column,value in zip(columns,pokemon_rows[index] ) :\n",
        "    s+=f'\\n{column:10} -> {value:5}'\n",
        "  print(s)"
      ],
      "metadata": {
        "id": "j9_ui_YEMsEE"
      },
      "id": "j9_ui_YEMsEE",
      "execution_count": 51,
      "outputs": []
    },
    {
      "cell_type": "code",
      "source": [
        "for n in neighbors:\n",
        "  print_pokemon(n[0])"
      ],
      "metadata": {
        "colab": {
          "base_uri": "https://localhost:8080/"
        },
        "id": "rBoVjNn6ObDh",
        "outputId": "2fa71a44-fcf5-47d6-d40e-207f3894b086"
      },
      "id": "rBoVjNn6ObDh",
      "execution_count": 52,
      "outputs": [
        {
          "output_type": "stream",
          "name": "stdout",
          "text": [
            "308 - Medicham, di tipo Fighting\n",
            " - Pokemon Non Leggendario\n",
            "#          -> 308  \n",
            "Name       -> Medicham\n",
            "Type 1     -> Fighting\n",
            "Type 2     -> Psychic\n",
            "Total      -> 410  \n",
            "HP         -> 60   \n",
            "Attack     -> 60   \n",
            "Defense    -> 75   \n",
            "Sp. Atk    -> 60   \n",
            "Sp. Def    -> 75   \n",
            "Speed      -> 80   \n",
            "Generation -> 3    \n",
            "Legendary  -> False\n",
            "496 - Servine, di tipo Grass\n",
            " - Pokemon Non Leggendario\n",
            "#          -> 496  \n",
            "Name       -> Servine\n",
            "Type 1     -> Grass\n",
            "Type 2     ->      \n",
            "Total      -> 413  \n",
            "HP         -> 60   \n",
            "Attack     -> 60   \n",
            "Defense    -> 75   \n",
            "Sp. Atk    -> 60   \n",
            "Sp. Def    -> 75   \n",
            "Speed      -> 83   \n",
            "Generation -> 5    \n",
            "Legendary  -> False\n",
            "583 - Vanillish, di tipo Ice\n",
            " - Pokemon Non Leggendario\n",
            "#          -> 583  \n",
            "Name       -> Vanillish\n",
            "Type 1     -> Ice  \n",
            "Type 2     ->      \n",
            "Total      -> 395  \n",
            "HP         -> 51   \n",
            "Attack     -> 65   \n",
            "Defense    -> 65   \n",
            "Sp. Atk    -> 80   \n",
            "Sp. Def    -> 75   \n",
            "Speed      -> 59   \n",
            "Generation -> 5    \n",
            "Legendary  -> False\n",
            "153 - Bayleef, di tipo Grass\n",
            " - Pokemon Non Leggendario\n",
            "#          -> 153  \n",
            "Name       -> Bayleef\n",
            "Type 1     -> Grass\n",
            "Type 2     ->      \n",
            "Total      -> 405  \n",
            "HP         -> 60   \n",
            "Attack     -> 62   \n",
            "Defense    -> 80   \n",
            "Sp. Atk    -> 63   \n",
            "Sp. Def    -> 80   \n",
            "Speed      -> 60   \n",
            "Generation -> 2    \n",
            "Legendary  -> False\n",
            "8 - Wartortle, di tipo Water\n",
            " - Pokemon Non Leggendario\n",
            "#          -> 8    \n",
            "Name       -> Wartortle\n",
            "Type 1     -> Water\n",
            "Type 2     ->      \n",
            "Total      -> 405  \n",
            "HP         -> 59   \n",
            "Attack     -> 63   \n",
            "Defense    -> 80   \n",
            "Sp. Atk    -> 65   \n",
            "Sp. Def    -> 80   \n",
            "Speed      -> 58   \n",
            "Generation -> 1    \n",
            "Legendary  -> False\n"
          ]
        }
      ]
    },
    {
      "cell_type": "markdown",
      "id": "d4ba5162",
      "metadata": {
        "id": "d4ba5162"
      },
      "source": [
        "### Bonus track Visualizzare i Pokemon\n",
        "\n",
        "Concetti di teoria correlati:\n",
        "- `list comprehension`\n",
        "\n",
        "Se sei sul tuo Jupyter notebook usa il seguente snippet di codice: \n",
        "\n",
        "```python\n",
        "from IPython.display import Image\n",
        "\n",
        "for n,p in enumerate(best_pokemon):\n",
        "    print('-'*50)\n",
        "    print(n+1)\n",
        "    print(pokemon_dataset[p[0]][1])\n",
        "    display(Image(f\"resized/{pokemon_dataset[p[0]][0]}.jpg\")),\n",
        "    print('-'*50)\n",
        "```"
      ]
    },
    {
      "cell_type": "code",
      "execution_count": 53,
      "id": "329498eb",
      "metadata": {
        "colab": {
          "base_uri": "https://localhost:8080/",
          "height": 1000
        },
        "id": "329498eb",
        "outputId": "2f47e6fa-9df5-4167-e559-67d0ce861417"
      },
      "outputs": [
        {
          "output_type": "stream",
          "name": "stdout",
          "text": [
            "--------------------------------------------------\n",
            "1\n",
            "Medicham\n"
          ]
        },
        {
          "output_type": "display_data",
          "data": {
            "text/plain": [
              "<IPython.core.display.Image object>"
            ],
            "image/jpeg": "[encoded data removed]"
          },
          "metadata": {
            "image/jpeg": {
              "width": 150
            }
          }
        },
        {
          "output_type": "stream",
          "name": "stdout",
          "text": [
            "--------------------------------------------------\n",
            "--------------------------------------------------\n",
            "2\n",
            "Servine\n"
          ]
        },
        {
          "output_type": "display_data",
          "data": {
            "text/plain": [
              "<IPython.core.display.Image object>"
            ],
            "image/jpeg": "[encoded data removed]"
          },
          "metadata": {
            "image/jpeg": {
              "width": 150
            }
          }
        },
        {
          "output_type": "stream",
          "name": "stdout",
          "text": [
            "--------------------------------------------------\n",
            "--------------------------------------------------\n",
            "3\n",
            "Vanillish\n"
          ]
        },
        {
          "output_type": "display_data",
          "data": {
            "text/plain": [
              "<IPython.core.display.Image object>"
            ],
            "image/jpeg": "[encoded data removed]"
          },
          "metadata": {
            "image/jpeg": {
              "width": 150
            }
          }
        },
        {
          "output_type": "stream",
          "name": "stdout",
          "text": [
            "--------------------------------------------------\n",
            "--------------------------------------------------\n",
            "4\n",
            "Bayleef\n"
          ]
        },
        {
          "output_type": "display_data",
          "data": {
            "text/plain": [
              "<IPython.core.display.Image object>"
            ],
            "image/jpeg": "[encoded data removed]"
          },
          "metadata": {
            "image/jpeg": {
              "width": 150
            }
          }
        },
        {
          "output_type": "stream",
          "name": "stdout",
          "text": [
            "--------------------------------------------------\n",
            "--------------------------------------------------\n",
            "5\n",
            "Wartortle\n"
          ]
        },
        {
          "output_type": "display_data",
          "data": {
            "text/plain": [
              "<IPython.core.display.Image object>"
            ],
            "image/jpeg": "[encoded data removed]"
          },
          "metadata": {
            "image/jpeg": {
              "width": 150
            }
          }
        },
        {
          "output_type": "stream",
          "name": "stdout",
          "text": [
            "--------------------------------------------------\n"
          ]
        }
      ],
      "source": [
        "from IPython.display import Image\n",
        "\n",
        "for n,p in enumerate(neighbors):\n",
        "  index=p[0]\n",
        "  print('-'*50)\n",
        "  print(n+1)\n",
        "  print(pokemon_rows[index][1])\n",
        "  display(Image(f\"resized/{pokemon_rows[index][0]}.jpg\",width=150)),\n",
        "  print('-'*50)"
      ]
    },
    {
      "cell_type": "code",
      "source": [
        ""
      ],
      "metadata": {
        "id": "O7clkGYhPciA"
      },
      "id": "O7clkGYhPciA",
      "execution_count": 53,
      "outputs": []
    }
  ],
  "metadata": {
    "kernelspec": {
      "display_name": "Python 3 (ipykernel)",
      "language": "python",
      "name": "python3"
    },
    "language_info": {
      "codemirror_mode": {
        "name": "ipython",
        "version": 3
      },
      "file_extension": ".py",
      "mimetype": "text/x-python",
      "name": "python",
      "nbconvert_exporter": "python",
      "pygments_lexer": "ipython3",
      "version": "3.10.0"
    },
    "colab": {
      "name": "Live_Coding.ipynb",
      "provenance": []
    }
  },
  "nbformat": 4,
  "nbformat_minor": 5
}