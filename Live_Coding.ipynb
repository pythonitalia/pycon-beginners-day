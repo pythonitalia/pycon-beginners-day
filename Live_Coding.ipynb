{
 "cells": [
  {
   "cell_type": "markdown",
   "id": "a01af5d9",
   "metadata": {},
   "source": [
    "### Sottoproblema 1: Prendere in input dei dati dall'utente e memorizzarli sottoforma di numeri\n",
    "\n",
    "Concetti teorici correlati:\n",
    "- variabili\n",
    "- funzione input\n",
    "- funzione print \n",
    "- tipi di dato\n",
    "- operazioni con i dati"
   ]
  },
  {
   "cell_type": "code",
   "execution_count": 31,
   "id": "e5f6e516",
   "metadata": {},
   "outputs": [],
   "source": [
    "# Qui andremo a prendere 6 input dall'utente e a trasformarli in variabili float"
   ]
  },
  {
   "cell_type": "markdown",
   "id": "f651e5f2",
   "metadata": {},
   "source": [
    "### Sottoproblema 2.a Leggere dal dataset tutti i dati relativi ai Pokemon\n",
    "\n",
    "Concetti teorici correlati:\n",
    "- liste e accesso ai loro elementi\n",
    "- cicli for per scorrere le liste\n",
    "- matrici\n",
    "- file CSV e loro lettura\n",
    "- apertura e lettura di un file in Python\n",
    "- dataset\n",
    "- introduzione alle f-strings (?)"
   ]
  },
  {
   "cell_type": "code",
   "execution_count": 32,
   "id": "de455a7c",
   "metadata": {},
   "outputs": [],
   "source": [
    "# Qui andremo ad aprire il dataset dei pokemon e ad assegnarlo ad una variabile"
   ]
  },
  {
   "cell_type": "markdown",
   "id": "1dfcb3d7",
   "metadata": {},
   "source": [
    "### Sottoproblema 2.b Utilizzare una funzione per stabilire un grado di similarità\n",
    "\n",
    "Concetti teorici correlati:\n",
    "- espressioni matematiche più complesse e precedenza degli operatori\n",
    "- modulo math\n",
    "- funzioni\n",
    "  - input/output di una funzione\n",
    "  - argomenti"
   ]
  },
  {
   "cell_type": "code",
   "execution_count": 30,
   "id": "22cfa495",
   "metadata": {},
   "outputs": [],
   "source": [
    "# Qui andremo a creare e testare le funzioni per\n",
    "# - calcolo della distanza euclidea\n",
    "# - normalizzazione\n",
    "# Inoltre ci andremo a prendere le colonne con i soli valori numerici dal dataset"
   ]
  },
  {
   "cell_type": "markdown",
   "id": "2857aad1",
   "metadata": {},
   "source": [
    "### Sottoproblema 2.c Trovare i k pokemon più simili utilizzando la funzione di similarità\n",
    "\n",
    "Concetti teorici correlati:\n",
    "- cicli for\n",
    "- strutture dati complesse (liste di tuple?)\n",
    "- sort \n",
    "- funzioni lambda\n",
    "- array slicing"
   ]
  },
  {
   "cell_type": "code",
   "execution_count": 33,
   "id": "41bae39e",
   "metadata": {},
   "outputs": [],
   "source": [
    "# Qui andremo ad unire i pezzi:\n",
    "# - Partiamo dall'input dell'utente e creiamo una lista corrispondente ad un pokemon \"fittizio\"\n",
    "# - Aggiungiamo al dataset e normalizziamo (ottenendo un dataset normalizzato)\n",
    "# - Estraiamo ultima riga (corrispondente al pokemon fittizio)\n",
    "# - in un ciclo for calcoliamo le distanze e le inseriamo nella struttura dati complessa\n",
    "# - orinamento tramite sort e lambda\n",
    "# - estraiamo i primi K elementi"
   ]
  },
  {
   "cell_type": "markdown",
   "id": "ceb60d5f",
   "metadata": {},
   "source": [
    "### Sottoproblema 3 Visualizzare i risultati\n",
    "\n",
    "Concetti teorici correlati:\n",
    "- f-strings\n",
    "- funzioni"
   ]
  },
  {
   "cell_type": "code",
   "execution_count": 34,
   "id": "9694ecb7",
   "metadata": {},
   "outputs": [],
   "source": [
    "# Qui andremo a creare una funzione che partendo dai K indici ci costruisce K stringhe tramite funzione ed f-strings"
   ]
  },
  {
   "cell_type": "markdown",
   "id": "d4ba5162",
   "metadata": {},
   "source": [
    "### Bonus track Visualizzare i Pokemon\n",
    "\n",
    "```\n",
    "images_paths = [ f\"resized/{pokemon_dataset[p[0]][0]}.jpg\" for p in l ]\n",
    "print(images_paths)\n",
    "import ipyplot\n",
    "\n",
    "ipyplot.plot_images(images_paths, labels=[ pokemon_dataset[p[0]][1] for p in l ], max_images=5, img_width=150)\n",
    "```"
   ]
  },
  {
   "cell_type": "code",
   "execution_count": null,
   "id": "329498eb",
   "metadata": {},
   "outputs": [],
   "source": []
  }
 ],
 "metadata": {
  "kernelspec": {
   "display_name": "Python 3 (ipykernel)",
   "language": "python",
   "name": "python3"
  },
  "language_info": {
   "codemirror_mode": {
    "name": "ipython",
    "version": 3
   },
   "file_extension": ".py",
   "mimetype": "text/x-python",
   "name": "python",
   "nbconvert_exporter": "python",
   "pygments_lexer": "ipython3",
   "version": "3.10.0"
  }
 },
 "nbformat": 4,
 "nbformat_minor": 5
}
