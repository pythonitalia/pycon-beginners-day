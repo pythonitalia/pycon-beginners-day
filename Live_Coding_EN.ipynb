{
 "cells": [
  {
   "cell_type": "markdown",
   "id": "a01af5d9",
   "metadata": {},
   "source": [
    "### Task 1: Take in input some data from the user and store them as numbers\n",
    "\n",
    "Theory related concepts:\n",
    "- variables\n",
    "- input function\n",
    "- print function\n",
    "- built-in data types\n",
    "- operations with data"
   ]
  },
  {
   "cell_type": "code",
   "execution_count": 1,
   "id": "e5f6e516",
   "metadata": {},
   "outputs": [],
   "source": [
    "# Code here: get 6 input values and transform them into float numbers"
   ]
  },
  {
   "cell_type": "markdown",
   "id": "f651e5f2",
   "metadata": {},
   "source": [
    "### Task 2.a Read from the pokemon dataset all Pokemon data\n",
    "\n",
    "Theory related concepts:\n",
    "- lists and access to their elements\n",
    "- for loops to iterate through lists\n",
    "- matrices\n",
    "- CSV files\n",
    "- open and read a file in Python\n",
    "- dataset\n",
    "- introduction to f-strings (?)"
   ]
  },
  {
   "cell_type": "code",
   "execution_count": 32,
   "id": "de455a7c",
   "metadata": {},
   "outputs": [],
   "source": [
    "# Code here: Open dataset, and assign reference to a single variable"
   ]
  },
  {
   "cell_type": "markdown",
   "id": "1dfcb3d7",
   "metadata": {},
   "source": [
    "### Task 2.b Use a function to establish a similarity degree\n",
    "\n",
    "Theory related concepts:\n",
    "- complex mathematical operators and operators precedence\n",
    "- math module\n",
    "- functions\n",
    "  - input/output of a function\n",
    "  - parameters"
   ]
  },
  {
   "cell_type": "code",
   "execution_count": 2,
   "id": "22cfa495",
   "metadata": {},
   "outputs": [],
   "source": [
    "# Code Here:\n",
    "# - function to calculate Euclidean Distance\n",
    "# - data normalisation\n",
    "\n",
    "# ++ Extract only numerical columns for each row in the dataset"
   ]
  },
  {
   "cell_type": "markdown",
   "id": "2857aad1",
   "metadata": {},
   "source": [
    "### Task 2.c Find the `k` most similar pokemon using the similarity function\n",
    "\n",
    "Theory related concepts:\n",
    "- for loops\n",
    "- complex data structures (list of tuples?)\n",
    "- sort\n",
    "- lambda functions\n",
    "- array slicing"
   ]
  },
  {
   "cell_type": "code",
   "execution_count": 33,
   "id": "41bae39e",
   "metadata": {},
   "outputs": [],
   "source": [
    "# Code here: (following up from previous tasks)\n",
    "# - Get user input, and define an imaginary pokemon_ from the 6 given input values\n",
    "# - Add the imaginary pokemon to the dataset, and run normalisation\n",
    "# - Extract the imaginary pokemon from the dataset (last row)\n",
    "# - calculate the distance (similarity) of the imaginary pokemon from the other pokemon in the dataset\n",
    "# - sorting of similarities / distances (via lambda function)\n",
    "# - extract the top K results"
   ]
  },
  {
   "cell_type": "markdown",
   "id": "ceb60d5f",
   "metadata": {},
   "source": [
    "### Task 3 Visualize the outputs\n",
    "\n",
    "Theory related concepts:\n",
    "- f-strings\n",
    "- functions"
   ]
  },
  {
   "cell_type": "code",
   "execution_count": 34,
   "id": "9694ecb7",
   "metadata": {},
   "outputs": [],
   "source": [
    "# Code here: create a function that derives k strings from a set of k indices in the dataset using f-strings"
   ]
  },
  {
   "cell_type": "markdown",
   "id": "d4ba5162",
   "metadata": {},
   "source": [
    "### Bonus track - Visualize Pokemon Art\n",
    "Theory related concepts:\n",
    "- `list comprehension`\n",
    "\n",
    "Code snippet to use: \n",
    "\n",
    "```\n",
    "images_paths = [ f\"resized/{pokemon_dataset[p[0]][0]}.jpg\" for p in l ]\n",
    "print(images_paths)\n",
    "\n",
    "import ipyplot\n",
    "\n",
    "ipyplot.plot_images(images_paths, labels=[ pokemon_dataset[p[0]][1] for p in l ], max_images=5, img_width=150)\n",
    "```"
   ]
  },
  {
   "cell_type": "code",
   "execution_count": null,
   "id": "329498eb",
   "metadata": {},
   "outputs": [],
   "source": []
  }
 ],
 "metadata": {
  "kernelspec": {
   "display_name": "Python 3 (ipykernel)",
   "language": "python",
   "name": "python3"
  },
  "language_info": {
   "codemirror_mode": {
    "name": "ipython",
    "version": 3
   },
   "file_extension": ".py",
   "mimetype": "text/x-python",
   "name": "python",
   "nbconvert_exporter": "python",
   "pygments_lexer": "ipython3",
   "version": "3.10.0"
  }
 },
 "nbformat": 4,
 "nbformat_minor": 5
}
